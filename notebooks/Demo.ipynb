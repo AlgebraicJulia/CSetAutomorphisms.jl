{
 "cells": [
  {
   "cell_type": "code",
   "execution_count": null,
   "id": "06139242",
   "metadata": {},
   "outputs": [],
   "source": [
    "using IJulia, Interact\n",
    "notebook(dir = Interact.notebookdir)"
   ]
  },
  {
   "cell_type": "code",
   "execution_count": null,
   "id": "c68db627",
   "metadata": {},
   "outputs": [],
   "source": [
    "using CSetAutomorphisms\n",
    "using Catlab.Graphics\n",
    "using Catlab.Graphs\n",
    "using Catlab.WiringDiagrams\n",
    "using Catlab.Graphics: to_graphviz, Graphviz, TopToBottom\n",
    "\n",
    "show_diagram(d::WiringDiagram, msg::String, node_colors::Dict{Int,String})=to_graphviz(\n",
    "    d,orientation=TopToBottom,labels=false,label_attr=:xlabel, \n",
    "    edge_attrs=Graphviz.Attributes(:fontname=>\"Courier\"),  \n",
    "    title=Graphviz.Label(\"t\", msg), node_colors=node_colors,\n",
    "    node_attrs=Graphviz.Attributes(:fontname=>\"Courier\"))\n",
    "\n",
    "# Generate example data \n",
    "hists = autos(Graph(4);history=true)[3]\n",
    "vs = to_vizstate(hists)\n",
    "\n",
    "# Visualize search tree\n",
    "@manipulate for n in slider(1:length(vs), value=1, label=\"Step:\")\n",
    "    v = vs[n]\n",
    "    gv = show_diagram(v.wd, v.msg, v.colors)\n",
    "    gv\n",
    "end"
   ]
  }
 ],
 "metadata": {
  "@webio": {
   "lastCommId": null,
   "lastKernelId": null
  },
  "kernelspec": {
   "display_name": "Julia 1.6.1",
   "language": "julia",
   "name": "julia-1.6"
  },
  "language_info": {
   "file_extension": ".jl",
   "mimetype": "application/julia",
   "name": "julia",
   "version": "1.6.1"
  }
 },
 "nbformat": 4,
 "nbformat_minor": 5
}
